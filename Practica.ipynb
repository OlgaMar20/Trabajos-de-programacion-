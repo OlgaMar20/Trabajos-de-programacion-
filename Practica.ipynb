{
 "cells": [
  {
   "cell_type": "code",
   "execution_count": 1,
   "id": "3035901f-e0c9-49f7-92c8-d4cd9ec54977",
   "metadata": {},
   "outputs": [
    {
     "name": "stdout",
     "output_type": "stream",
     "text": [
      "Hola Alex tienes 18 años\n"
     ]
    }
   ],
   "source": [
    "#Interpolación de cadenas \n",
    "name=\"Alex\"\n",
    "edad=18\n",
    "print(\"Hola\",name,\"tienes\",edad,\"años\")"
   ]
  },
  {
   "cell_type": "code",
   "execution_count": 15,
   "id": "bafb3d05-5c18-4307-b152-baaadf02dd20",
   "metadata": {},
   "outputs": [
    {
     "data": {
      "text/plain": [
       "'Hola Alex, tienes 18 años'"
      ]
     },
     "execution_count": 15,
     "metadata": {},
     "output_type": "execute_result"
    }
   ],
   "source": [
    "#fString \n",
    "mensaje=f\"Hola {name}, tienes {edad} años\"\n",
    "mensaje"
   ]
  },
  {
   "cell_type": "code",
   "execution_count": 3,
   "id": "9b366d9e-4ea5-4d2b-a1df-026515d758c9",
   "metadata": {},
   "outputs": [
    {
     "name": "stdout",
     "output_type": "stream",
     "text": [
      "Hola Alex, tienes 18 años\n"
     ]
    }
   ],
   "source": [
    "print(mensaje)"
   ]
  },
  {
   "cell_type": "code",
   "execution_count": 5,
   "id": "e7965810-fd96-43eb-8631-2c03d29f087a",
   "metadata": {},
   "outputs": [
    {
     "name": "stdout",
     "output_type": "stream",
     "text": [
      "Hola Alex, tienes 18 años\n"
     ]
    }
   ],
   "source": [
    "print(f\"Hola {name}, tienes {edad} años\")"
   ]
  },
  {
   "cell_type": "code",
   "execution_count": 6,
   "id": "07beca63-212d-4117-a356-721d71a7e0a4",
   "metadata": {},
   "outputs": [],
   "source": [
    "def saludo():\n",
    "    print(\"Hola mundo!!!\")"
   ]
  },
  {
   "cell_type": "code",
   "execution_count": 9,
   "id": "68edf1f1-4404-41f7-85f8-091e74722b05",
   "metadata": {},
   "outputs": [
    {
     "name": "stdout",
     "output_type": "stream",
     "text": [
      "Hola mundo!!!\n"
     ]
    }
   ],
   "source": [
    "mi_funcion= saludo() #Asignando la funcion"
   ]
  },
  {
   "cell_type": "code",
   "execution_count": 8,
   "id": "694892e7-ba73-43b8-b1ec-df4f51c3e441",
   "metadata": {},
   "outputs": [
    {
     "name": "stdout",
     "output_type": "stream",
     "text": [
      "Hola mundo!!!\n"
     ]
    }
   ],
   "source": [
    "saludo() #invocando la funcion "
   ]
  },
  {
   "cell_type": "code",
   "execution_count": 10,
   "id": "bdf4ba10-b362-4207-bf40-3fc33cd3f419",
   "metadata": {},
   "outputs": [
    {
     "name": "stdout",
     "output_type": "stream",
     "text": [
      "None\n"
     ]
    }
   ],
   "source": [
    "print(mi_funcion)"
   ]
  },
  {
   "cell_type": "code",
   "execution_count": 11,
   "id": "8adb7b57-1c6a-401a-a133-8d320f6a2fa0",
   "metadata": {},
   "outputs": [],
   "source": [
    "def saludo2():\n",
    "    return \"HOLA MUNDO!!!\""
   ]
  },
  {
   "cell_type": "code",
   "execution_count": 12,
   "id": "57cf1c9a-242e-4a5f-b918-a3e91532a98b",
   "metadata": {},
   "outputs": [
    {
     "data": {
      "text/plain": [
       "'HOLA MUNDO!!!'"
      ]
     },
     "execution_count": 12,
     "metadata": {},
     "output_type": "execute_result"
    }
   ],
   "source": [
    "saludo2() #invocacion "
   ]
  },
  {
   "cell_type": "code",
   "execution_count": 13,
   "id": "b04da928-dd6a-4e32-b65d-0ac60d2f2775",
   "metadata": {},
   "outputs": [],
   "source": [
    "mi_funcion2=saludo2 #asignarla "
   ]
  },
  {
   "cell_type": "code",
   "execution_count": 14,
   "id": "7289bcd7-0ece-4c42-a72c-bc9a58951305",
   "metadata": {},
   "outputs": [
    {
     "name": "stdout",
     "output_type": "stream",
     "text": [
      "HOLA MUNDO!!!\n"
     ]
    }
   ],
   "source": [
    "print(mi_funcion2)"
   ]
  },
  {
   "cell_type": "code",
   "execution_count": 18,
   "id": "3846bcaa-1d21-43e0-abd0-c0228bc59e2e",
   "metadata": {},
   "outputs": [
    {
     "name": "stdout",
     "output_type": "stream",
     "text": [
      " La suma de 5 + 10 = 15\n"
     ]
    }
   ],
   "source": [
    "a=5\n",
    "b=10\n",
    "res=f\" La suma de {a} + {b} = {a+b}\"\n",
    "print (res)"
   ]
  },
  {
   "cell_type": "code",
   "execution_count": 19,
   "id": "2db7809e-ee0d-43ac-83ee-c6b83ca6193c",
   "metadata": {},
   "outputs": [],
   "source": [
    "def suma (a,b):\n",
    "    return a+b"
   ]
  },
  {
   "cell_type": "code",
   "execution_count": 20,
   "id": "5d9698cf-dc4b-437b-9b67-708bf6a322de",
   "metadata": {},
   "outputs": [],
   "source": [
    "res=f\"La suma de  {a} + {b} = {suma (a,b)}\""
   ]
  },
  {
   "cell_type": "code",
   "execution_count": 21,
   "id": "7843d018-fdd2-4059-b7ac-4191e71ec7f6",
   "metadata": {},
   "outputs": [
    {
     "name": "stdout",
     "output_type": "stream",
     "text": [
      "La suma de  5 + 10 = 15\n"
     ]
    }
   ],
   "source": [
    "print (res)"
   ]
  },
  {
   "cell_type": "code",
   "execution_count": 22,
   "id": "8099ee5a-04e0-493d-8b61-c8f152c8318d",
   "metadata": {},
   "outputs": [
    {
     "name": "stdout",
     "output_type": "stream",
     "text": [
      "numeros:['uno', 'dos', 'tres']\n"
     ]
    }
   ],
   "source": [
    "lista_numeros=[\"uno\",\"dos\",\"tres\"]\n",
    "msg_numeros=f\"numeros:{lista}\"\n",
    "print(msg_numeros)"
   ]
  },
  {
   "cell_type": "code",
   "execution_count": 23,
   "id": "4d8d7422-fa00-465c-b55e-091d3144ad7d",
   "metadata": {},
   "outputs": [
    {
     "name": "stdout",
     "output_type": "stream",
     "text": [
      "Numeros: ('uno', 'dos', 'tres')\n"
     ]
    }
   ],
   "source": [
    "tupla_numeros=(\"uno\",\"dos\",\"tres\",)\n",
    "msg_numeros=f\"Numeros: {tupla_numeros}\"\n",
    "print (msg_numeros)"
   ]
  },
  {
   "cell_type": "code",
   "execution_count": 24,
   "id": "e1e920ac-1b05-4058-bf52-0333f4674a85",
   "metadata": {},
   "outputs": [
    {
     "name": "stdout",
     "output_type": "stream",
     "text": [
      "{'tres', 'uno', 'dos'}\n"
     ]
    }
   ],
   "source": [
    "set_numeros={\"uno\",\"dos\",\"tres\",\"tres\"}\n",
    "print(set_numeros)"
   ]
  },
  {
   "cell_type": "code",
   "execution_count": 25,
   "id": "65ed94e1-bf0b-4c0c-89ca-f6f737ad2efb",
   "metadata": {},
   "outputs": [
    {
     "name": "stdout",
     "output_type": "stream",
     "text": [
      "Numeros: {'1': 'uno', '2': 'dos', '3': 'tres'}\n"
     ]
    }
   ],
   "source": [
    "dict_numeros={\"1\":\"uno\",\"2\":\"dos\",\"3\":\"tres\"}\n",
    "msg_dict_numeros=f\"Numeros: {dict_numeros}\"\n",
    "print(msg_dict_numeros)"
   ]
  },
  {
   "cell_type": "code",
   "execution_count": 28,
   "id": "fe9d7e6e-cc3f-4027-9630-93772948030b",
   "metadata": {},
   "outputs": [
    {
     "name": "stdout",
     "output_type": "stream",
     "text": [
      "Numero: dos\n"
     ]
    }
   ],
   "source": [
    "msg_dict_numeros=f\"Numero: {dict_numeros['2']}\"\n",
    "print (msg_dict_numeros)"
   ]
  },
  {
   "cell_type": "code",
   "execution_count": 29,
   "id": "4c57ab4f-6b7d-401a-bfbe-0d49116f446e",
   "metadata": {},
   "outputs": [
    {
     "data": {
      "text/plain": [
       "'\\nEscriba una funcion que mediante strings retorne el mensaje \"Hola\"\\n<nombre> tienes <edad> años\".\\nLos argumentos de la funcion son: año actual,año de nacimiento y nombre\\n'"
      ]
     },
     "execution_count": 29,
     "metadata": {},
     "output_type": "execute_result"
    }
   ],
   "source": [
    "\"\"\"\n",
    "Escriba una funcion que mediante fstrings retorne el mensaje \"Hola\"\n",
    "<nombre> tienes <edad> años\".\n",
    "Los argumentos de la funcion son: año actual,año de nacimiento y nombre\n",
    "\"\"\""
   ]
  },
  {
   "cell_type": "code",
   "execution_count": 32,
   "id": "9bcc8a66-1e55-43f2-a643-523b8ce62210",
   "metadata": {},
   "outputs": [
    {
     "name": "stdout",
     "output_type": "stream",
     "text": [
      "Hola Olga tines 19 años\n"
     ]
    }
   ],
   "source": [
    "def msj (nombre:str,ac:int,anac:int)-> str:\n",
    "    return f\"Hola {nombre} tines {ac-anac} años\"\n",
    "print (msj(\"Olga\",2022,2003))\n"
   ]
  },
  {
   "cell_type": "code",
   "execution_count": 37,
   "id": "39d96cbd-e5de-4391-aa3e-4a2dba599e32",
   "metadata": {},
   "outputs": [
    {
     "name": "stdout",
     "output_type": "stream",
     "text": [
      " No.            Materia            Profesor\n",
      "  1  Estructura de Datos           Soto  \n",
      "  2  Ecuaciones Diferenciales      Eli   \n",
      "  3  Metodos Numericos             Edgar \n",
      "  4  Programacion Funcional        Walter\n"
     ]
    }
   ],
   "source": [
    "num_materia=[\"No.\",1,2,3,4]\n",
    "name_materia=[\"Materia\",\"Estructura de Datos\",\"Ecuaciones Diferenciales\",\"Metodos Numericos\",\"Programacion Funcional\"]\n",
    "name_profesor=[\"Profesor\",\"Soto\",\"Eli\",\"Edgar\",\"Walter\"]\n",
    "print (f\"{num_materia[0]:^5}{name_materia[0]:^30}{name_profesor[0]:<6}\")\n",
    "for i in range (1,5):\n",
    "    print (f\"{num_materia[i]:^5}{name_materia[i]:<30}{name_profesor[i]:<6}\")"
   ]
  },
  {
   "cell_type": "code",
   "execution_count": 1,
   "id": "302d0635-3481-4e62-8e54-ec607b98f803",
   "metadata": {},
   "outputs": [],
   "source": [
    "#Clase del 30 de Agosto de 2022"
   ]
  },
  {
   "cell_type": "code",
   "execution_count": 15,
   "id": "53e8629f-1467-41c5-83ad-5978b89d2a35",
   "metadata": {},
   "outputs": [
    {
     "name": "stdout",
     "output_type": "stream",
     "text": [
      "       Nombre           Est. de Datos      Ec. Diferenciales      Met. Numericos      Prog. Funcional   \n",
      "        Hugo                  10                   7                    6                    6          \n",
      "        Paco                  9                    7                    7                    6          \n",
      "        Luis                  10                   8                    8                    7          \n",
      "       Paola                  8                    7                    9                    6          \n",
      "       Laura                  10                   9                    5                    7          \n"
     ]
    }
   ],
   "source": [
    "name_alu=[\"Hugo\",\"Paco\",\"Luis\",\"Paola\",\"Laura\"]\n",
    "name_materia1=[10,9,10,8,10]\n",
    "name_materia2=[7,7,8,7,9]\n",
    "name_materia3=[6,7,8,9,5]\n",
    "name_materia4=[6,6,7,6,7]\n",
    "\n",
    "encabezado=[\"Nombre\",\"Est. de Datos\",\"Ec. Diferenciales\",\"Met. Numericos\",\"Prog. Funcional\"]\n",
    "\n",
    "def reporte(fmt):\n",
    "    print (f\"{encabezado[0]:^{fmt}} {encabezado[1]:^{fmt}} {encabezado[2]:^{fmt}} {encabezado[3]:^{fmt}} {encabezado[4]:^{fmt}}\")\n",
    "    for i in range (5):\n",
    "        print (f\"{name_alu[i]:^{fmt}} {name_materia1[i]:^{fmt}} {name_materia2[i]:^{fmt}} {name_materia3[i]:^{fmt}} {name_materia4[i]:^{fmt}}\")\n",
    "reporte(20)"
   ]
  },
  {
   "cell_type": "code",
   "execution_count": 16,
   "id": "b9c6cf32-da8c-447a-a4ab-442b3b22d48e",
   "metadata": {},
   "outputs": [
    {
     "name": "stdout",
     "output_type": "stream",
     "text": [
      "       Nombre           Est. de Datos      Ec. Diferenciales      Met. Numericos      Prog. Funcional   \n",
      "********Hugo******** *********10********* *********7********** *********6********** *********6**********\n",
      "********Paco******** *********9********** *********7********** *********7********** *********6**********\n",
      "********Luis******** *********10********* *********8********** *********8********** *********7**********\n",
      "*******Paola******** *********8********** *********7********** *********9********** *********6**********\n",
      "*******Laura******** *********10********* *********9********** *********5********** *********7**********\n"
     ]
    }
   ],
   "source": [
    "def reporte(fmt):\n",
    "    print (f\"{encabezado[0]:^{fmt}} {encabezado[1]:^{fmt}} {encabezado[2]:^{fmt}} {encabezado[3]:^{fmt}} {encabezado[4]:^{fmt}}\")\n",
    "    for i in range (5):\n",
    "        print (f\"{name_alu[i]:*^{fmt}} {name_materia1[i]:*^{fmt}} {name_materia2[i]:*^{fmt}} {name_materia3[i]:*^{fmt}} {name_materia4[i]:*^{fmt}}\")\n",
    "reporte(20)"
   ]
  },
  {
   "cell_type": "code",
   "execution_count": 18,
   "id": "ea0f558e-42c7-4908-b7eb-fb8198ea8762",
   "metadata": {},
   "outputs": [
    {
     "name": "stdout",
     "output_type": "stream",
     "text": [
      "++++++++Hugo++++++++\n"
     ]
    }
   ],
   "source": [
    "fmt=20\n",
    "print (f\"{name_alu[0]:+^{fmt}}\")"
   ]
  },
  {
   "cell_type": "code",
   "execution_count": 19,
   "id": "b53df369-afa5-43b1-8ffb-20811b1fbc26",
   "metadata": {},
   "outputs": [
    {
     "name": "stdout",
     "output_type": "stream",
     "text": [
      "++++++++++++++++Hugo\n"
     ]
    }
   ],
   "source": [
    "print (f\"{name_alu[0]:+>{fmt}}\")"
   ]
  },
  {
   "cell_type": "code",
   "execution_count": 20,
   "id": "a21eff8e-64f8-448e-ab55-33019526a02d",
   "metadata": {},
   "outputs": [
    {
     "name": "stdout",
     "output_type": "stream",
     "text": [
      "Hugo++++++++++++++++\n"
     ]
    }
   ],
   "source": [
    "print (f\"{name_alu[0]:+<{fmt}}\")"
   ]
  },
  {
   "cell_type": "code",
   "execution_count": 21,
   "id": "89bac47c-1ceb-4a4a-8703-38f56325da7e",
   "metadata": {},
   "outputs": [
    {
     "name": "stdout",
     "output_type": "stream",
     "text": [
      "1,000,000,000,076,766\n"
     ]
    }
   ],
   "source": [
    "numero_big=1000000000076766\n",
    "print(f\"{numero_big:,d}\")"
   ]
  },
  {
   "cell_type": "code",
   "execution_count": 22,
   "id": "ac3a4a34-fc8c-4a00-802a-075dc063e376",
   "metadata": {},
   "outputs": [
    {
     "name": "stdout",
     "output_type": "stream",
     "text": [
      "3.3333333333333335\n"
     ]
    }
   ],
   "source": [
    "print (10/3)"
   ]
  },
  {
   "cell_type": "code",
   "execution_count": 23,
   "id": "72a5fb14-4c94-4593-a8f7-5a4a1fe2c909",
   "metadata": {},
   "outputs": [
    {
     "name": "stdout",
     "output_type": "stream",
     "text": [
      "3.3333333333333335\n",
      "3.33\n"
     ]
    }
   ],
   "source": [
    "num=10/3\n",
    "print (num)\n",
    "print (f\"{num:.2f}\")"
   ]
  },
  {
   "cell_type": "code",
   "execution_count": 25,
   "id": "03b1f44e-4366-40c7-800a-280e6f20cefe",
   "metadata": {},
   "outputs": [
    {
     "name": "stdout",
     "output_type": "stream",
     "text": [
      "3.333333e+00\n"
     ]
    }
   ],
   "source": [
    "print(f\"{num:e}\")"
   ]
  },
  {
   "cell_type": "code",
   "execution_count": 26,
   "id": "b7e9ba3e-3e08-4f8c-b07a-315e96877497",
   "metadata": {},
   "outputs": [
    {
     "name": "stdout",
     "output_type": "stream",
     "text": [
      "3.312447e+04\n"
     ]
    }
   ],
   "source": [
    "num=33124.47468373\n",
    "print(f\"{num:e}\")"
   ]
  },
  {
   "cell_type": "code",
   "execution_count": 27,
   "id": "125734b4-c30f-4261-bb04-680d97ab86d1",
   "metadata": {},
   "outputs": [
    {
     "name": "stdout",
     "output_type": "stream",
     "text": [
      "3.31e+04\n"
     ]
    }
   ],
   "source": [
    "print(f\"{num:.2e}\")"
   ]
  },
  {
   "cell_type": "code",
   "execution_count": 28,
   "id": "7135240d-bc35-4fb0-b2ce-1373f862cef7",
   "metadata": {},
   "outputs": [
    {
     "name": "stdout",
     "output_type": "stream",
     "text": [
      "25.786427%\n"
     ]
    }
   ],
   "source": [
    "porcentaje= 0.257864273892\n",
    "print (f\"{porcentaje:%}\")"
   ]
  },
  {
   "cell_type": "code",
   "execution_count": 29,
   "id": "10f11125-919c-4001-a731-21f9fbe13587",
   "metadata": {},
   "outputs": [
    {
     "name": "stdout",
     "output_type": "stream",
     "text": [
      "25.786%\n"
     ]
    }
   ],
   "source": [
    "print(f\"{porcentaje:.3%}\")"
   ]
  },
  {
   "cell_type": "code",
   "execution_count": 30,
   "id": "33e9ef42-f300-4f1a-a277-ae3745c8829b",
   "metadata": {},
   "outputs": [
    {
     "name": "stdout",
     "output_type": "stream",
     "text": [
      "377\n"
     ]
    }
   ],
   "source": [
    "print (f\"{255:o}\")"
   ]
  },
  {
   "cell_type": "code",
   "execution_count": 31,
   "id": "9fff0ced-b425-4cee-98da-510b5a31fbe2",
   "metadata": {},
   "outputs": [
    {
     "name": "stdout",
     "output_type": "stream",
     "text": [
      "ff\n"
     ]
    }
   ],
   "source": [
    "print (f\"{255:x}\")"
   ]
  },
  {
   "cell_type": "code",
   "execution_count": 32,
   "id": "1b45ace6-7f88-47c4-97f1-219cd98f727c",
   "metadata": {},
   "outputs": [
    {
     "name": "stdout",
     "output_type": "stream",
     "text": [
      "11111111\n"
     ]
    }
   ],
   "source": [
    "print (f\"{255:b}\")"
   ]
  },
  {
   "cell_type": "code",
   "execution_count": 33,
   "id": "79896472-e3de-4719-9ec7-c2121bd4902a",
   "metadata": {},
   "outputs": [
    {
     "name": "stdout",
     "output_type": "stream",
     "text": [
      "A\n"
     ]
    }
   ],
   "source": [
    "print (f\"{65:c}\")"
   ]
  },
  {
   "cell_type": "code",
   "execution_count": 36,
   "id": "aa51132a-41a6-429f-8ef7-f69752c73c53",
   "metadata": {},
   "outputs": [
    {
     "name": "stdout",
     "output_type": "stream",
     "text": [
      "    0     :\u0000\n",
      "    1     :\u0001\n",
      "    2     :\u0002\n",
      "    3     :\u0003\n",
      "    4     :\u0004\n",
      "    5     :\u0005\n",
      "    6     :\u0006\n",
      "    7     :\u0007\n",
      "    8     \n",
      "    9     :\t\n",
      "    10    :\n",
      "\n",
      "    11    :\u000b",
      "\n",
      "    12    :\f",
      "\n",
      "    13    :\n",
      "    14    :\u000e\n",
      "    15    :\u000f\n",
      "    16    :\u0010\n",
      "    17    :\u0011\n",
      "    18    :\u0012\n",
      "    19    :\u0013\n",
      "    20    :\u0014\n",
      "    21    :\u0015\n",
      "    22    :\u0016\n",
      "    23    :\u0017\n",
      "    24    :\u0018\n",
      "    25    :\u0019\n",
      "    26    :\u001a\n",
      "    27    :\u001b\n",
      "    28    :\u001c",
      "\n",
      "    29    :\u001d",
      "\n",
      "    30    :\u001e",
      "\n",
      "    31    :\u001f\n",
      "    32    : \n",
      "    33    :!\n",
      "    34    :\"\n",
      "    35    :#\n",
      "    36    :$\n",
      "    37    :%\n",
      "    38    :&\n",
      "    39    :'\n",
      "    40    :(\n",
      "    41    :)\n",
      "    42    :*\n",
      "    43    :+\n",
      "    44    :,\n",
      "    45    :-\n",
      "    46    :.\n",
      "    47    :/\n",
      "    48    :0\n",
      "    49    :1\n",
      "    50    :2\n",
      "    51    :3\n",
      "    52    :4\n",
      "    53    :5\n",
      "    54    :6\n",
      "    55    :7\n",
      "    56    :8\n",
      "    57    :9\n",
      "    58    ::\n",
      "    59    :;\n",
      "    60    :<\n",
      "    61    :=\n",
      "    62    :>\n",
      "    63    :?\n",
      "    64    :@\n",
      "    65    :A\n",
      "    66    :B\n",
      "    67    :C\n",
      "    68    :D\n",
      "    69    :E\n",
      "    70    :F\n",
      "    71    :G\n",
      "    72    :H\n",
      "    73    :I\n",
      "    74    :J\n",
      "    75    :K\n",
      "    76    :L\n",
      "    77    :M\n",
      "    78    :N\n",
      "    79    :O\n",
      "    80    :P\n",
      "    81    :Q\n",
      "    82    :R\n",
      "    83    :S\n",
      "    84    :T\n",
      "    85    :U\n",
      "    86    :V\n",
      "    87    :W\n",
      "    88    :X\n",
      "    89    :Y\n",
      "    90    :Z\n",
      "    91    :[\n",
      "    92    :\\\n",
      "    93    :]\n",
      "    94    :^\n",
      "    95    :_\n",
      "    96    :`\n",
      "    97    :a\n",
      "    98    :b\n",
      "    99    :c\n",
      "   100    :d\n",
      "   101    :e\n",
      "   102    :f\n",
      "   103    :g\n",
      "   104    :h\n",
      "   105    :i\n",
      "   106    :j\n",
      "   107    :k\n",
      "   108    :l\n",
      "   109    :m\n",
      "   110    :n\n",
      "   111    :o\n",
      "   112    :p\n",
      "   113    :q\n",
      "   114    :r\n",
      "   115    :s\n",
      "   116    :t\n",
      "   117    :u\n",
      "   118    :v\n",
      "   119    :w\n",
      "   120    :x\n",
      "   121    :y\n",
      "   122    :z\n",
      "   123    :{\n",
      "   124    :|\n",
      "   125    :}\n",
      "   126    :~\n",
      "   127    :\n",
      "   128    :\n",
      "   129    :\n",
      "   130    :\n",
      "   131    :\n",
      "   132    :\n",
      "   133    :",
      "\n",
      "   134    :\n",
      "   135    :\n",
      "   136    :\n",
      "   137    :\n",
      "   138    :\n",
      "   139    :\n",
      "   140    :\n",
      "   141    :\n",
      "   142    :\n",
      "   143    :\n",
      "   144    :\n",
      "   145    :\n",
      "   146    :\n",
      "   147    :\n",
      "   148    :\n",
      "   149    :\n",
      "   150    :\n",
      "   151    :\n",
      "   152    :\n",
      "   153    :\n",
      "   154    :\n",
      "   155    :\n",
      "   156    :\n",
      "   157    :\n",
      "   158    :\n",
      "   159    :\n",
      "   160    : \n",
      "   161    :¡\n",
      "   162    :¢\n",
      "   163    :£\n",
      "   164    :¤\n",
      "   165    :¥\n",
      "   166    :¦\n",
      "   167    :§\n",
      "   168    :¨\n",
      "   169    :©\n",
      "   170    :ª\n",
      "   171    :«\n",
      "   172    :¬\n",
      "   173    :­\n",
      "   174    :®\n",
      "   175    :¯\n",
      "   176    :°\n",
      "   177    :±\n",
      "   178    :²\n",
      "   179    :³\n",
      "   180    :´\n",
      "   181    :µ\n",
      "   182    :¶\n",
      "   183    :·\n",
      "   184    :¸\n",
      "   185    :¹\n",
      "   186    :º\n",
      "   187    :»\n",
      "   188    :¼\n",
      "   189    :½\n",
      "   190    :¾\n",
      "   191    :¿\n",
      "   192    :À\n",
      "   193    :Á\n",
      "   194    :Â\n",
      "   195    :Ã\n",
      "   196    :Ä\n",
      "   197    :Å\n",
      "   198    :Æ\n",
      "   199    :Ç\n",
      "   200    :È\n",
      "   201    :É\n",
      "   202    :Ê\n",
      "   203    :Ë\n",
      "   204    :Ì\n",
      "   205    :Í\n",
      "   206    :Î\n",
      "   207    :Ï\n",
      "   208    :Ð\n",
      "   209    :Ñ\n",
      "   210    :Ò\n",
      "   211    :Ó\n",
      "   212    :Ô\n",
      "   213    :Õ\n",
      "   214    :Ö\n",
      "   215    :×\n",
      "   216    :Ø\n",
      "   217    :Ù\n",
      "   218    :Ú\n",
      "   219    :Û\n",
      "   220    :Ü\n",
      "   221    :Ý\n",
      "   222    :Þ\n",
      "   223    :ß\n",
      "   224    :à\n",
      "   225    :á\n",
      "   226    :â\n",
      "   227    :ã\n",
      "   228    :ä\n",
      "   229    :å\n",
      "   230    :æ\n",
      "   231    :ç\n",
      "   232    :è\n",
      "   233    :é\n",
      "   234    :ê\n",
      "   235    :ë\n",
      "   236    :ì\n",
      "   237    :í\n",
      "   238    :î\n",
      "   239    :ï\n",
      "   240    :ð\n",
      "   241    :ñ\n",
      "   242    :ò\n",
      "   243    :ó\n",
      "   244    :ô\n",
      "   245    :õ\n",
      "   246    :ö\n",
      "   247    :÷\n",
      "   248    :ø\n",
      "   249    :ù\n",
      "   250    :ú\n",
      "   251    :û\n",
      "   252    :ü\n",
      "   253    :ý\n",
      "   254    :þ\n"
     ]
    }
   ],
   "source": [
    "for i in range (255):\n",
    "    print (f\"{i:^10}:{i:c}\")"
   ]
  },
  {
   "cell_type": "code",
   "execution_count": null,
   "id": "31b19542-830c-4258-8f44-f5568bf0cb0a",
   "metadata": {},
   "outputs": [],
   "source": []
  }
 ],
 "metadata": {
  "kernelspec": {
   "display_name": "Python 3 (ipykernel)",
   "language": "python",
   "name": "python3"
  },
  "language_info": {
   "codemirror_mode": {
    "name": "ipython",
    "version": 3
   },
   "file_extension": ".py",
   "mimetype": "text/x-python",
   "name": "python",
   "nbconvert_exporter": "python",
   "pygments_lexer": "ipython3",
   "version": "3.9.12"
  }
 },
 "nbformat": 4,
 "nbformat_minor": 5
}
