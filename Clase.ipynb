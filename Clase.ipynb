{
 "cells": [
  {
   "cell_type": "markdown",
   "id": "6c05834f",
   "metadata": {},
   "source": [
    "# Universidad de Colima\n",
    "# Facultad de ingeniería Mecánica y Eléctrica\n",
    "# Ingeniería en computación Inteligente"
   ]
  },
  {
   "cell_type": "code",
   "execution_count": 2,
   "id": "e586a778",
   "metadata": {},
   "outputs": [
    {
     "name": "stdout",
     "output_type": "stream",
     "text": [
      "Hola\n"
     ]
    }
   ],
   "source": [
    "print (\"Hola\")"
   ]
  },
  {
   "cell_type": "code",
   "execution_count": null,
   "id": "93c1446d",
   "metadata": {},
   "outputs": [],
   "source": []
  }
 ],
 "metadata": {
  "kernelspec": {
   "display_name": "Python 3 (ipykernel)",
   "language": "python",
   "name": "python3"
  },
  "language_info": {
   "codemirror_mode": {
    "name": "ipython",
    "version": 3
   },
   "file_extension": ".py",
   "mimetype": "text/x-python",
   "name": "python",
   "nbconvert_exporter": "python",
   "pygments_lexer": "ipython3",
   "version": "3.9.12"
  }
 },
 "nbformat": 4,
 "nbformat_minor": 5
}
